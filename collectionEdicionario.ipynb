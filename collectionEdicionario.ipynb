{
 "cells": [
  {
   "cell_type": "markdown",
   "metadata": {},
   "source": [
    "# Revisão Collection "
   ]
  },
  {
   "cell_type": "code",
   "execution_count": 1,
   "metadata": {},
   "outputs": [
    {
     "data": {
      "text/plain": [
       "list"
      ]
     },
     "execution_count": 1,
     "metadata": {},
     "output_type": "execute_result"
    }
   ],
   "source": [
    "#Lista\n",
    "    \n",
    "lista_times = ['vasco', 'flamengo', 'fluminense', 'são paulo']\n",
    "\n",
    "type(lista_times)\n",
    "\n",
    "# Tipo da lista = list"
   ]
  },
  {
   "cell_type": "code",
   "execution_count": 2,
   "metadata": {},
   "outputs": [
    {
     "data": {
      "text/plain": [
       "tuple"
      ]
     },
     "execution_count": 2,
     "metadata": {},
     "output_type": "execute_result"
    }
   ],
   "source": [
    "# Tupla\n",
    "\n",
    "tupla_times = ('vasco', 'flamengo', 'fluminense', 'são paulo')\n",
    "\n",
    "type(tupla_times)\n",
    "\n",
    "# Tipo da Tupla = tuple\n"
   ]
  },
  {
   "cell_type": "code",
   "execution_count": 5,
   "metadata": {},
   "outputs": [
    {
     "data": {
      "text/plain": [
       "{'flamengo', 'fluminense', 'são paulo', 'vasco'}"
      ]
     },
     "execution_count": 5,
     "metadata": {},
     "output_type": "execute_result"
    }
   ],
   "source": [
    "# Conjuntos\n",
    "\n",
    "conjunto_times = {'vasco', 'flamengo', 'fluminense', 'são paulo', 'vasco'}\n",
    "\n",
    "type(conjunto_times)\n",
    "# Tipo do Conjunto = set\n",
    "\n",
    "conjunto_times\n"
   ]
  },
  {
   "cell_type": "markdown",
   "metadata": {},
   "source": [
    "# Dicionário"
   ]
  },
  {
   "cell_type": "code",
   "execution_count": 6,
   "metadata": {},
   "outputs": [
    {
     "name": "stdout",
     "output_type": "stream",
     "text": [
      "3\n",
      "Taguatinga:3\n",
      "Brazlàndia:5\n",
      "Ceilândia:2\n",
      "Candangolandia:4\n"
     ]
    }
   ],
   "source": [
    "#Criando um dicionário com informações específicas\n",
    "\n",
    "apartamentos = {\n",
    "    'Taguatinga': 3,\n",
    "    'Brazlàndia': 5,\n",
    "    'Ceilândia': 2\n",
    "}\n",
    "\n",
    "#Acessando valores no diionário\n",
    "\n",
    "print(apartamentos['Taguatinga']) #Saída\n",
    "\n",
    "# Adicionando um novo apartamento\n",
    "apartamentos['Candangolandia'] = 4\n",
    "\n",
    "# iterando sobre as chaves e valores\n",
    "\n",
    "for apartamento, quantidade in apartamentos.items():\n",
    "    print(f'{apartamento}:{quantidade}')\n",
    "\n"
   ]
  }
 ],
 "metadata": {
  "kernelspec": {
   "display_name": ".venv",
   "language": "python",
   "name": "python3"
  },
  "language_info": {
   "codemirror_mode": {
    "name": "ipython",
    "version": 3
   },
   "file_extension": ".py",
   "mimetype": "text/x-python",
   "name": "python",
   "nbconvert_exporter": "python",
   "pygments_lexer": "ipython3",
   "version": "3.12.4"
  }
 },
 "nbformat": 4,
 "nbformat_minor": 2
}
