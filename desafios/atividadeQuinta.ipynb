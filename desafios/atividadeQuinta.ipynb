{
 "cells": [
  {
   "cell_type": "markdown",
   "metadata": {},
   "source": [
    "# Atividade aula assíncrona - Quinta-Feira"
   ]
  },
  {
   "cell_type": "markdown",
   "metadata": {},
   "source": [
    "## Orientação a Objetos\n",
    "\n",
    "<p>Orientação a Objetos é um paradigma de programação que utiliza \"objetos\" - instâncias de classes - para representar entidades do mundo real. Esse paradigma ajuda a organizar o código de forma modular, reutilizável e escalável.</p>\n",
    "\n",
    "### Paradigma\n",
    "\n",
    "<p>Um paradigma de programação é um estilo ou forma de programação. Orientação a Objetos é um desses paradigmas, focado em objetos e suas interações.</p>\n",
    "<p>Além do paradigma OO(Orientado a objetos), também possuem outros como : Paradigma procedural, paradigma funcional, paradigma lógico, paradgima declarativo, paradigma de programação reativa, paradigma de programação orientada aspectos (AOP), </p>\n",
    "\n",
    "### Objeto\n",
    "\n",
    "<p>Um objeto é uma instância de uma classe, que pode ter atributos (dados) e métodos (funções).</p>"
   ]
  },
  {
   "cell_type": "code",
   "execution_count": 1,
   "metadata": {},
   "outputs": [
    {
     "name": "stdout",
     "output_type": "stream",
     "text": [
      "Fabrício\n"
     ]
    }
   ],
   "source": [
    "# Classe\n",
    "\n",
    "class Aluno:\n",
    "    def __init__(self, nome, matricula, idade):\n",
    "        self.nome = nome\n",
    "        self.idade = idade\n",
    "\n",
    "aluno1 = Aluno('Fabrício', 212334, 22)\n",
    "\n",
    "print(aluno1.nome)"
   ]
  },
  {
   "cell_type": "markdown",
   "metadata": {},
   "source": [
    "### Classe\n",
    "\n",
    "Uma classe é um modelo que define um tipo de objeto, especificando seus atributos e métodos."
   ]
  },
  {
   "cell_type": "code",
   "execution_count": 3,
   "metadata": {},
   "outputs": [
    {
     "data": {
      "text/plain": [
       "'Você está a 100 km por hora'"
      ]
     },
     "execution_count": 3,
     "metadata": {},
     "output_type": "execute_result"
    }
   ],
   "source": [
    "class Carro:\n",
    "    def __init__ (self, modelo, placa, ano):\n",
    "        self.modelo = modelo\n",
    "        self.placa = placa\n",
    "        self.ano = ano\n",
    "\n",
    "    def acelerar(velocidadeAtual, velocidadeAcelerada):\n",
    "        velocidadeAtual += velocidadeAcelerada\n",
    "\n",
    "        return f'Você está a {velocidadeAtual} km por hora'\n",
    "\n",
    "carro1 = Carro.acelerar(0,100)\n",
    "\n",
    "carro1"
   ]
  },
  {
   "cell_type": "markdown",
   "metadata": {},
   "source": [
    "### Método\n",
    "\n",
    "<p>Metódo são funções definidas dentro de uma classe que operam em seus atributos</p>\n"
   ]
  },
  {
   "cell_type": "code",
   "execution_count": 4,
   "metadata": {},
   "outputs": [
    {
     "name": "stdout",
     "output_type": "stream",
     "text": [
      "Carro: Toyota Corolla\n"
     ]
    }
   ],
   "source": [
    "class Carro:\n",
    "    def __init__(self, marca, modelo):\n",
    "        self.marca = marca\n",
    "        self.modelo = modelo\n",
    "\n",
    "    def descricao(self):\n",
    "        return f\"Carro: {self.marca} {self.modelo}\"\n",
    "\n",
    "meu_carro = Carro(\"Toyota\", \"Corolla\")\n",
    "print(meu_carro.descricao())\n"
   ]
  },
  {
   "cell_type": "markdown",
   "metadata": {},
   "source": [
    "### Herança\n",
    "\n",
    "<p>Herança permite que uma classe(subclasse) herde atributos e métodos de outra classe(superclasse)</p>"
   ]
  },
  {
   "cell_type": "code",
   "execution_count": 6,
   "metadata": {},
   "outputs": [
    {
     "name": "stdout",
     "output_type": "stream",
     "text": [
      "Miau\n"
     ]
    }
   ],
   "source": [
    "class Animal:\n",
    "    def __init__(self, nome):\n",
    "        self.nome = nome\n",
    "\n",
    "    def fazer_som(self):\n",
    "        return \"Som genérico de animal\"\n",
    "\n",
    "class Gato(Animal):\n",
    "    def fazer_som(self):\n",
    "        return \"Miau\"\n",
    "\n",
    "meu_gato = Gato(\"Felix\")\n",
    "print(meu_gato.fazer_som())  \n"
   ]
  },
  {
   "cell_type": "markdown",
   "metadata": {},
   "source": [
    "### Polimorfismo\n",
    "\n",
    "<p>Polimorfismo permite que diferentes classes usem métodos com o mesmo nome, mas comportamentos diferentes</p>"
   ]
  },
  {
   "cell_type": "code",
   "execution_count": 5,
   "metadata": {},
   "outputs": [
    {
     "name": "stdout",
     "output_type": "stream",
     "text": [
      "Quack\n",
      "Latido\n"
     ]
    }
   ],
   "source": [
    "class Pato:\n",
    "    def fazer_som(self):\n",
    "        return \"Quack\"\n",
    "\n",
    "class Cachorro:\n",
    "    def fazer_som(self):\n",
    "        return \"Latido\"\n",
    "\n",
    "def ouvir_animal(animal):\n",
    "    print(animal.fazer_som())\n",
    "\n",
    "pato = Pato()\n",
    "cachorro = Cachorro()\n",
    "\n",
    "ouvir_animal(pato)      \n",
    "ouvir_animal(cachorro)  "
   ]
  },
  {
   "cell_type": "markdown",
   "metadata": {},
   "source": [
    "### Encapsulamento\n",
    "\n",
    "<p>Encapsulamento é o conceito de esconder os detalhes internos de um objeto e expor apenas o necessário.</p>"
   ]
  },
  {
   "cell_type": "code",
   "execution_count": 7,
   "metadata": {},
   "outputs": [
    {
     "name": "stdout",
     "output_type": "stream",
     "text": [
      "150\n"
     ]
    }
   ],
   "source": [
    "class ContaBancaria:\n",
    "    def __init__(self, saldo):\n",
    "        self.__saldo = saldo  # Atributo privado\n",
    "\n",
    "    def depositar(self, valor):\n",
    "        if valor > 0:\n",
    "            self.__saldo += valor\n",
    "\n",
    "    def obter_saldo(self):\n",
    "        return self.__saldo\n",
    "\n",
    "minha_conta = ContaBancaria(100)\n",
    "minha_conta.depositar(50)\n",
    "print(minha_conta.obter_saldo())  # Saída: 150\n",
    "# print(minha_conta.__saldo)  # Isso causaria um erro, pois __saldo é privado\n"
   ]
  }
 ],
 "metadata": {
  "kernelspec": {
   "display_name": ".venv",
   "language": "python",
   "name": "python3"
  },
  "language_info": {
   "codemirror_mode": {
    "name": "ipython",
    "version": 3
   },
   "file_extension": ".py",
   "mimetype": "text/x-python",
   "name": "python",
   "nbconvert_exporter": "python",
   "pygments_lexer": "ipython3",
   "version": "3.12.4"
  }
 },
 "nbformat": 4,
 "nbformat_minor": 2
}
