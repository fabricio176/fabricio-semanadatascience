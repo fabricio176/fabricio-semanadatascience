{
 "cells": [
  {
   "cell_type": "markdown",
   "metadata": {},
   "source": [
    "# Atividade aula assíncrona - Sexta-Feira"
   ]
  },
  {
   "cell_type": "markdown",
   "metadata": {},
   "source": [
    "### Média\n",
    "<p>A média é a soma de todos os valores dividida pelo número de valores. É uma medida de tendência central.</p>"
   ]
  },
  {
   "cell_type": "code",
   "execution_count": 9,
   "metadata": {},
   "outputs": [
    {
     "name": "stdout",
     "output_type": "stream",
     "text": [
      "Média :  5.5\n"
     ]
    }
   ],
   "source": [
    "# Média\n",
    "import numpy as np \n",
    "\n",
    "dados = [1,2,3,4,5,6,7,8,9,10]\n",
    "\n",
    "media = np.mean(dados)\n",
    "\n",
    "print(\"Média : \", media)"
   ]
  },
  {
   "cell_type": "markdown",
   "metadata": {},
   "source": [
    "### Mediana\n",
    "\n",
    "<p>A mediana é o valor que separa a metade superior da metade inferior dos dados. Para um conjunto de dados ordenado, é o valor central.</p>"
   ]
  },
  {
   "cell_type": "code",
   "execution_count": 10,
   "metadata": {},
   "outputs": [
    {
     "name": "stdout",
     "output_type": "stream",
     "text": [
      "Mediana: 5.5\n"
     ]
    }
   ],
   "source": [
    "# Mediana\n",
    "\n",
    "mediana = np.median(dados)\n",
    "print(\"Mediana:\", mediana) "
   ]
  },
  {
   "cell_type": "markdown",
   "metadata": {},
   "source": [
    "### Moda\n",
    "\n",
    "<p>A moda é o valor que aparece com mais frequência em um conjunto de dados. Um conjunto pode ter mais de uma moda.</p>"
   ]
  },
  {
   "cell_type": "code",
   "execution_count": 12,
   "metadata": {},
   "outputs": [
    {
     "name": "stdout",
     "output_type": "stream",
     "text": [
      "Moda: 4\n"
     ]
    }
   ],
   "source": [
    "# Moda\n",
    "\n",
    "import statistics\n",
    "\n",
    "dados_com_moda = [1, 2, 2, 3, 4, 4, 4, 5, 6, 7]\n",
    "\n",
    "moda = statistics.mode(dados_com_moda)\n",
    "print(\"Moda:\", moda)  # Saída: Moda: 4"
   ]
  },
  {
   "cell_type": "markdown",
   "metadata": {},
   "source": [
    "### Quartis\n",
    "\n",
    "<p>Quartis são valores que dividem um conjunto de dados em quatro partes iguais. O primeiro quartil (Q1) é o valor abaixo do qual 25% dos dados estão. O segundo quartil (Q2) é a mediana, e o terceiro quartil (Q3) é o valor abaixo do qual 75% dos dados estão.</p>"
   ]
  },
  {
   "cell_type": "code",
   "execution_count": 13,
   "metadata": {},
   "outputs": [
    {
     "name": "stdout",
     "output_type": "stream",
     "text": [
      "Q1: 3.25\n",
      "Q2 (Mediana): 5.5\n",
      "Q3: 7.75\n"
     ]
    }
   ],
   "source": [
    "quartis = np.percentile(dados, [25, 50, 75])\n",
    "print(\"Q1:\", quartis[0])  \n",
    "print(\"Q2 (Mediana):\", quartis[1])  \n",
    "print(\"Q3:\", quartis[2]) "
   ]
  },
  {
   "cell_type": "markdown",
   "metadata": {},
   "source": [
    "### Desvio Padrão\n",
    "\n",
    "<p>O desvio padrão é uma medida da dispersão dos dados em relação à média. Um desvio padrão alto indica que os dados estão mais espalhados, enquanto um desvio padrão baixo indica que os dados estão mais próximos da média.</p>"
   ]
  },
  {
   "cell_type": "code",
   "execution_count": null,
   "metadata": {},
   "outputs": [],
   "source": [
    "desvio_padrao = np.std(dados)\n",
    "print(\"Desvio Padrão:\", desvio_padrao)"
   ]
  }
 ],
 "metadata": {
  "kernelspec": {
   "display_name": ".venv",
   "language": "python",
   "name": "python3"
  },
  "language_info": {
   "codemirror_mode": {
    "name": "ipython",
    "version": 3
   },
   "file_extension": ".py",
   "mimetype": "text/x-python",
   "name": "python",
   "nbconvert_exporter": "python",
   "pygments_lexer": "ipython3",
   "version": "3.12.4"
  }
 },
 "nbformat": 4,
 "nbformat_minor": 2
}
