{
 "cells": [
  {
   "cell_type": "markdown",
   "metadata": {},
   "source": [
    "# Revisão POO\n",
    "\n",
    "    Crie uma classe que ajude no controle financeiro.\n",
    "    os atributos são:\n",
    "        descricao\n",
    "        valor\n",
    "        categoria"
   ]
  },
  {
   "cell_type": "code",
   "execution_count": 14,
   "metadata": {},
   "outputs": [
    {
     "name": "stdout",
     "output_type": "stream",
     "text": [
      "Resultado: Limite Excedido\n",
      " Categoria:Carro\n"
     ]
    }
   ],
   "source": [
    "class ControleFinanceiro:\n",
    "\n",
    "    def __init__(self, descricao, valor, categoria):\n",
    "        self.descricao = descricao\n",
    "        self.valor = valor\n",
    "        self.categoria = categoria\n",
    "        self.despesas = []\n",
    "\n",
    "    def verificarValor(self):\n",
    "        if self.valor > 3000:\n",
    "            return 'Limite Excedido'\n",
    "        else:\n",
    "            return 'Valor dentro do limite'\n",
    "    def registrarDespesa(self):\n",
    "        self.despesas.append(self.descricao)\n",
    "        \n",
    "        return self.descricao\n",
    "    \n",
    "    def listarDespesas(self):\n",
    "\n",
    "        return self.despesas\n",
    "\n",
    "cf = ControleFinanceiro('Carro', 3001, 'Carro')\n",
    "\n",
    "print(f'Resultado: {cf.verificarValor()}\\n Categoria:{cf.categoria}')\n"
   ]
  },
  {
   "cell_type": "markdown",
   "metadata": {},
   "source": [
    "## Desafio\n",
    "\n",
    "- Criar uma classe com o nome Matemática\n",
    "- Criar um construtor com dois atributos com os nomes x,y\n",
    "- Criar um método para somar x e y\n",
    "- Criar um método para dividir x e y\n",
    "- Criar um método para calcular a média aritmética de x e y\n",
    "- Criar um método para calcular a média ponderada com peso 1 e 2\n"
   ]
  },
  {
   "cell_type": "code",
   "execution_count": 16,
   "metadata": {},
   "outputs": [
    {
     "name": "stdout",
     "output_type": "stream",
     "text": [
      "Soma: 25\n",
      "Subtração: -5\n",
      "Multiplicação: 150\n",
      "Divisão: 0.67\n",
      "Média Aritmética: 12.5\n",
      "Média Ponderada: 6.0\n"
     ]
    }
   ],
   "source": [
    "class Matematica:\n",
    "    def __init__(self, x, y):\n",
    "        self.x = x\n",
    "        self.y = y\n",
    "    \n",
    "    def somar(self):\n",
    "        return self.x + self.y\n",
    "    \n",
    "    def subtrair(self):\n",
    "        return self.x - self.y\n",
    "    \n",
    "    def multiplicar(self):\n",
    "        return self.x * self.y\n",
    "    \n",
    "    def dividir(self):\n",
    "        if self.y != 0:\n",
    "            return self.x / self.y\n",
    "        else:\n",
    "            return 'Não é possível dividir por zero'\n",
    "    \n",
    "    def mediaAritmetica(self):\n",
    "        return (self.x + self.y) / 2\n",
    "    \n",
    "    def mediaPonderada(self):\n",
    "        return (self.x * self.y) / (self.x + self.y)\n",
    "    \n",
    "x = 10\n",
    "y = 15\n",
    "\n",
    "matematica = Matematica(x, y)\n",
    "\n",
    "print(f'Soma: {matematica.somar()}')\n",
    "\n",
    "print(f'Subtração: {matematica.subtrair()}')\n",
    "\n",
    "print(f'Multiplicação: {matematica.multiplicar()}')\n",
    "\n",
    "print('Divisão: {:.2f}'.format(matematica.dividir()))\n",
    "\n",
    "\n",
    "\n",
    "print(f'Média Aritmética: {matematica.mediaAritmetica()}')\n",
    "\n",
    "print(f'Média Ponderada: {matematica.mediaPonderada()}')\n",
    "\n",
    "## Desafio\n",
    "    "
   ]
  }
 ],
 "metadata": {
  "kernelspec": {
   "display_name": ".venv",
   "language": "python",
   "name": "python3"
  },
  "language_info": {
   "codemirror_mode": {
    "name": "ipython",
    "version": 3
   },
   "file_extension": ".py",
   "mimetype": "text/x-python",
   "name": "python",
   "nbconvert_exporter": "python",
   "pygments_lexer": "ipython3",
   "version": "3.12.4"
  }
 },
 "nbformat": 4,
 "nbformat_minor": 2
}
