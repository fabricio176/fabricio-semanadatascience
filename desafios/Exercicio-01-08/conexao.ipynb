{
 "cells": [
  {
   "cell_type": "code",
   "execution_count": 2,
   "metadata": {},
   "outputs": [
    {
     "name": "stdout",
     "output_type": "stream",
     "text": [
      "Requirement already satisfied: sqlalchemy in c:\\senaiprojects\\fabriciosemanadc\\.venv\\lib\\site-packages (2.0.31)\n",
      "Requirement already satisfied: pymysql in c:\\senaiprojects\\fabriciosemanadc\\.venv\\lib\\site-packages (1.1.1)\n",
      "Requirement already satisfied: pandas in c:\\senaiprojects\\fabriciosemanadc\\.venv\\lib\\site-packages (2.2.2)\n",
      "Requirement already satisfied: typing-extensions>=4.6.0 in c:\\senaiprojects\\fabriciosemanadc\\.venv\\lib\\site-packages (from sqlalchemy) (4.12.2)\n",
      "Requirement already satisfied: greenlet!=0.4.17 in c:\\senaiprojects\\fabriciosemanadc\\.venv\\lib\\site-packages (from sqlalchemy) (3.0.3)\n",
      "Requirement already satisfied: numpy>=1.26.0 in c:\\senaiprojects\\fabriciosemanadc\\.venv\\lib\\site-packages (from pandas) (2.0.0)\n",
      "Requirement already satisfied: python-dateutil>=2.8.2 in c:\\senaiprojects\\fabriciosemanadc\\.venv\\lib\\site-packages (from pandas) (2.9.0.post0)\n",
      "Requirement already satisfied: pytz>=2020.1 in c:\\senaiprojects\\fabriciosemanadc\\.venv\\lib\\site-packages (from pandas) (2024.1)\n",
      "Requirement already satisfied: tzdata>=2022.7 in c:\\senaiprojects\\fabriciosemanadc\\.venv\\lib\\site-packages (from pandas) (2024.1)\n",
      "Requirement already satisfied: six>=1.5 in c:\\senaiprojects\\fabriciosemanadc\\.venv\\lib\\site-packages (from python-dateutil>=2.8.2->pandas) (1.16.0)\n"
     ]
    },
    {
     "name": "stderr",
     "output_type": "stream",
     "text": [
      "\n",
      "[notice] A new release of pip is available: 24.1.2 -> 24.2\n",
      "[notice] To update, run: python.exe -m pip install --upgrade pip\n"
     ]
    }
   ],
   "source": [
    "! pip install sqlalchemy pymysql pandas\n"
   ]
  },
  {
   "cell_type": "code",
   "execution_count": 3,
   "metadata": {},
   "outputs": [],
   "source": [
    "# Notebook Jupyter: Conectando ao MySQL com SQLAlchemy e lendo um SQL\n",
    "\n",
    "## 1. Importando Bibliotecas\n",
    "\n",
    "\n",
    "import pandas as pd\n",
    "from sqlalchemy import create_engine\n"
   ]
  },
  {
   "cell_type": "code",
   "execution_count": 4,
   "metadata": {},
   "outputs": [
    {
     "name": "stdout",
     "output_type": "stream",
     "text": [
      "Requirement already satisfied: mysql in c:\\senaiprojects\\fabriciosemanadc\\.venv\\lib\\site-packages (0.0.3)\n",
      "Requirement already satisfied: mysqlclient in c:\\senaiprojects\\fabriciosemanadc\\.venv\\lib\\site-packages (from mysql) (2.2.4)\n"
     ]
    },
    {
     "name": "stderr",
     "output_type": "stream",
     "text": [
      "\n",
      "[notice] A new release of pip is available: 24.1.2 -> 24.2\n",
      "[notice] To update, run: python.exe -m pip install --upgrade pip\n"
     ]
    }
   ],
   "source": [
    "! pip install mysql"
   ]
  },
  {
   "cell_type": "code",
   "execution_count": 5,
   "metadata": {},
   "outputs": [],
   "source": [
    "import pymysql"
   ]
  },
  {
   "cell_type": "code",
   "execution_count": 6,
   "metadata": {},
   "outputs": [
    {
     "name": "stdout",
     "output_type": "stream",
     "text": [
      "Conexão bem-sucedida!\n",
      "Consulta realizada e DataFrame criado!\n"
     ]
    },
    {
     "name": "stderr",
     "output_type": "stream",
     "text": [
      "C:\\Users\\ead\\AppData\\Local\\Temp\\ipykernel_19288\\3464769112.py:27: UserWarning: pandas only supports SQLAlchemy connectable (engine/connection) or database string URI or sqlite3 DBAPI2 connection. Other DBAPI2 objects are not tested. Please consider using SQLAlchemy.\n",
      "  df_alunos = pd.read_sql(query, connection)\n",
      "C:\\Users\\ead\\AppData\\Local\\Temp\\ipykernel_19288\\3464769112.py:31: UserWarning: pandas only supports SQLAlchemy connectable (engine/connection) or database string URI or sqlite3 DBAPI2 connection. Other DBAPI2 objects are not tested. Please consider using SQLAlchemy.\n",
      "  df_professores = pd.read_sql(queryProfessor, connection)\n",
      "C:\\Users\\ead\\AppData\\Local\\Temp\\ipykernel_19288\\3464769112.py:35: UserWarning: pandas only supports SQLAlchemy connectable (engine/connection) or database string URI or sqlite3 DBAPI2 connection. Other DBAPI2 objects are not tested. Please consider using SQLAlchemy.\n",
      "  df_avaliacoes = pd.read_sql(queryAvaliacao, connection)\n",
      "C:\\Users\\ead\\AppData\\Local\\Temp\\ipykernel_19288\\3464769112.py:39: UserWarning: pandas only supports SQLAlchemy connectable (engine/connection) or database string URI or sqlite3 DBAPI2 connection. Other DBAPI2 objects are not tested. Please consider using SQLAlchemy.\n",
      "  df_diarioBordo = pd.read_sql(queryDiarioBordo, connection)\n"
     ]
    }
   ],
   "source": [
    "# Definir a variável global\n",
    "df_alunos = None\n",
    "df_professores = None\n",
    "df_avaliacoes = None\n",
    "df_diarioBordo = None\n",
    "\n",
    "\n",
    "\n",
    "\n",
    "def test_connection():\n",
    "    global df_alunos\n",
    "    global df_professores\n",
    "    global df_avaliacoes\n",
    "    global df_diarioBordo\n",
    "    try:\n",
    "        connection = pymysql.connect(\n",
    "            host='localhost',\n",
    "            user='root',\n",
    "            password='senai@123',\n",
    "            database='schooltracker',\n",
    "            port=3306\n",
    "        )\n",
    "        print(\"Conexão bem-sucedida!\")\n",
    "\n",
    "        # Realizar a consulta na tabela aluno\n",
    "        query = \"SELECT * FROM aluno\"\n",
    "        df_alunos = pd.read_sql(query, connection)\n",
    "\n",
    "        # Realizar a consulta na tabela professor\n",
    "        queryProfessor = 'SELECT * FROM professor'\n",
    "        df_professores = pd.read_sql(queryProfessor, connection)\n",
    "\n",
    "        # Realizar a consulta na tabela avaliacao\n",
    "        queryAvaliacao = 'SELECT * FROM avaliacao'\n",
    "        df_avaliacoes = pd.read_sql(queryAvaliacao, connection)\n",
    "\n",
    "        # Realizar a consulta na tabela diariobordo\n",
    "        queryDiarioBordo = 'SELECT * FROM diariobordo'\n",
    "        df_diarioBordo = pd.read_sql(queryDiarioBordo, connection)\n",
    "\n",
    "\n",
    "        # Fechar a conexão\n",
    "        connection.close()\n",
    "        \n",
    "        print(\"Consulta realizada e DataFrame criado!\")\n",
    "\n",
    "    except Exception as e:\n",
    "        print(f\"Erro ao conectar ou consultar: {e}\")\n",
    "\n",
    "# Chamar a função para estabelecer a conexão e realizar a consulta\n",
    "test_connection()\n"
   ]
  },
  {
   "cell_type": "code",
   "execution_count": 7,
   "metadata": {},
   "outputs": [
    {
     "name": "stdout",
     "output_type": "stream",
     "text": [
      "   id        ra               nome  tempoestudo  rendafamiliar\n",
      "0   1   0034549          Ana Silva         11.0         3200.0\n",
      "1   2   0034547       Carlos Souza          6.0         3500.0\n",
      "2   3  20230001  Fernanda Oliveira         13.0         4700.0\n",
      "3   4  20230002     Gabriel Santos          7.0         2900.0\n",
      "4   5  20230003    Juliana Pereira          8.0         3100.0\n"
     ]
    }
   ],
   "source": [
    "# Exibir o DataFrame\n",
    "if df_alunos is not None:\n",
    "    print(df_alunos.head())\n",
    "else:\n",
    "    print(\"DataFrame não foi carregado.\")\n"
   ]
  },
  {
   "cell_type": "code",
   "execution_count": 8,
   "metadata": {},
   "outputs": [
    {
     "data": {
      "text/plain": [
       "0     0034549\n",
       "1     0034547\n",
       "2    20230001\n",
       "3    20230002\n",
       "4    20230003\n",
       "Name: ra, dtype: object"
      ]
     },
     "execution_count": 8,
     "metadata": {},
     "output_type": "execute_result"
    }
   ],
   "source": [
    "df_alunos.ra.head()"
   ]
  },
  {
   "cell_type": "code",
   "execution_count": 9,
   "metadata": {},
   "outputs": [
    {
     "data": {
      "text/plain": [
       "0    1\n",
       "1    2\n",
       "2    3\n",
       "3    4\n",
       "4    5\n",
       "Name: id, dtype: int64"
      ]
     },
     "execution_count": 9,
     "metadata": {},
     "output_type": "execute_result"
    }
   ],
   "source": [
    "df_alunos.id.head()"
   ]
  },
  {
   "cell_type": "code",
   "execution_count": 10,
   "metadata": {},
   "outputs": [
    {
     "data": {
      "text/plain": [
       "(52, 5)"
      ]
     },
     "execution_count": 10,
     "metadata": {},
     "output_type": "execute_result"
    }
   ],
   "source": [
    "df_alunos.shape"
   ]
  },
  {
   "cell_type": "code",
   "execution_count": 11,
   "metadata": {},
   "outputs": [
    {
     "data": {
      "text/plain": [
       "0     Ana Oliveira\n",
       "1     Carlos Silva\n",
       "2    Fernanda Lima\n",
       "3      João Santos\n",
       "4    Mariana Costa\n",
       "Name: nome, dtype: object"
      ]
     },
     "execution_count": 11,
     "metadata": {},
     "output_type": "execute_result"
    }
   ],
   "source": [
    "df_professores.nome.head()"
   ]
  },
  {
   "cell_type": "code",
   "execution_count": 12,
   "metadata": {},
   "outputs": [
    {
     "data": {
      "text/plain": [
       "0    8\n",
       "1    5\n",
       "2    9\n",
       "3    4\n",
       "4    7\n",
       "Name: n1, dtype: int64"
      ]
     },
     "execution_count": 12,
     "metadata": {},
     "output_type": "execute_result"
    }
   ],
   "source": [
    "df_avaliacoes.n1.head()"
   ]
  },
  {
   "cell_type": "markdown",
   "metadata": {},
   "source": [
    "## Quais bibliotecas um cientista de dados utiliza ?\n",
    "\n",
    "- Pandas\n",
    "- NumPy\n",
    "- Fundamentos de IA (Scikit-Learn)\n",
    "\n",
    "- Material Didático\n",
    "- Pandas e NumPy(Notebook)\n",
    "- Scikit-Learn\n",
    "\n",
    "### Pandas : Ciência de dados\n",
    "### Scikit-Learn : Elaboração de modelos de IA\n",
    "### NumPy : Matemática\n",
    "\n",
    "## 05/08/2024\n",
    "\n",
    "- Carregar Dados (ok)\n",
    "- Salvar um dataframe"
   ]
  },
  {
   "cell_type": "code",
   "execution_count": 16,
   "metadata": {},
   "outputs": [],
   "source": [
    "csv_filename = 'alunos.csv'\n",
    "df_alunos.to_csv(csv_filename, index=False)"
   ]
  },
  {
   "cell_type": "code",
   "execution_count": 17,
   "metadata": {},
   "outputs": [],
   "source": [
    "df_professores.to_json('professores.json', index=False)"
   ]
  },
  {
   "cell_type": "code",
   "execution_count": 20,
   "metadata": {},
   "outputs": [],
   "source": [
    "df_avaliacoes.to_excel('avaliacoes.xlsx', index=False)"
   ]
  },
  {
   "cell_type": "code",
   "execution_count": 19,
   "metadata": {},
   "outputs": [
    {
     "name": "stdout",
     "output_type": "stream",
     "text": [
      "Collecting openpyxlNote: you may need to restart the kernel to use updated packages.\n"
     ]
    },
    {
     "name": "stderr",
     "output_type": "stream",
     "text": [
      "\n",
      "[notice] A new release of pip is available: 24.1.2 -> 24.2\n",
      "[notice] To update, run: python.exe -m pip install --upgrade pip\n"
     ]
    },
    {
     "name": "stdout",
     "output_type": "stream",
     "text": [
      "\n",
      "  Downloading openpyxl-3.1.5-py2.py3-none-any.whl.metadata (2.5 kB)\n",
      "Collecting et-xmlfile (from openpyxl)\n",
      "  Downloading et_xmlfile-1.1.0-py3-none-any.whl.metadata (1.8 kB)\n",
      "Downloading openpyxl-3.1.5-py2.py3-none-any.whl (250 kB)\n",
      "   ---------------------------------------- 0.0/250.9 kB ? eta -:--:--\n",
      "   -------------- ------------------------- 92.2/250.9 kB 2.6 MB/s eta 0:00:01\n",
      "   ---------------------------------------- 250.9/250.9 kB 3.1 MB/s eta 0:00:00\n",
      "Downloading et_xmlfile-1.1.0-py3-none-any.whl (4.7 kB)\n",
      "Installing collected packages: et-xmlfile, openpyxl\n",
      "Successfully installed et-xmlfile-1.1.0 openpyxl-3.1.5\n"
     ]
    }
   ],
   "source": [
    "pip install openpyxl"
   ]
  },
  {
   "cell_type": "markdown",
   "metadata": {},
   "source": [
    "### Um novo DataFrame"
   ]
  },
  {
   "cell_type": "code",
   "execution_count": 21,
   "metadata": {},
   "outputs": [
    {
     "data": {
      "text/plain": [
       "Index(['id', 'ra', 'nome', 'tempoestudo', 'rendafamiliar'], dtype='object')"
      ]
     },
     "execution_count": 21,
     "metadata": {},
     "output_type": "execute_result"
    }
   ],
   "source": [
    "df_alunos.columns"
   ]
  },
  {
   "cell_type": "code",
   "execution_count": 36,
   "metadata": {},
   "outputs": [
    {
     "data": {
      "text/html": [
       "<div>\n",
       "<style scoped>\n",
       "    .dataframe tbody tr th:only-of-type {\n",
       "        vertical-align: middle;\n",
       "    }\n",
       "\n",
       "    .dataframe tbody tr th {\n",
       "        vertical-align: top;\n",
       "    }\n",
       "\n",
       "    .dataframe thead th {\n",
       "        text-align: right;\n",
       "    }\n",
       "</style>\n",
       "<table border=\"1\" class=\"dataframe\">\n",
       "  <thead>\n",
       "    <tr style=\"text-align: right;\">\n",
       "      <th></th>\n",
       "      <th>nome</th>\n",
       "      <th>tempoestudo</th>\n",
       "      <th>rendafamiliar</th>\n",
       "    </tr>\n",
       "  </thead>\n",
       "  <tbody>\n",
       "    <tr>\n",
       "      <th>0</th>\n",
       "      <td>Ana Silva</td>\n",
       "      <td>11.0</td>\n",
       "      <td>3200.0</td>\n",
       "    </tr>\n",
       "    <tr>\n",
       "      <th>1</th>\n",
       "      <td>Carlos Souza</td>\n",
       "      <td>6.0</td>\n",
       "      <td>3500.0</td>\n",
       "    </tr>\n",
       "    <tr>\n",
       "      <th>2</th>\n",
       "      <td>Fernanda Oliveira</td>\n",
       "      <td>13.0</td>\n",
       "      <td>4700.0</td>\n",
       "    </tr>\n",
       "    <tr>\n",
       "      <th>3</th>\n",
       "      <td>Gabriel Santos</td>\n",
       "      <td>7.0</td>\n",
       "      <td>2900.0</td>\n",
       "    </tr>\n",
       "    <tr>\n",
       "      <th>4</th>\n",
       "      <td>Juliana Pereira</td>\n",
       "      <td>8.0</td>\n",
       "      <td>3100.0</td>\n",
       "    </tr>\n",
       "  </tbody>\n",
       "</table>\n",
       "</div>"
      ],
      "text/plain": [
       "                nome  tempoestudo  rendafamiliar\n",
       "0          Ana Silva         11.0         3200.0\n",
       "1       Carlos Souza          6.0         3500.0\n",
       "2  Fernanda Oliveira         13.0         4700.0\n",
       "3     Gabriel Santos          7.0         2900.0\n",
       "4    Juliana Pereira          8.0         3100.0"
      ]
     },
     "execution_count": 36,
     "metadata": {},
     "output_type": "execute_result"
    }
   ],
   "source": [
    "df_tempo_renda = df_alunos[['nome', 'tempoestudo', 'rendafamiliar']]\n",
    "\n",
    "df_tempo_renda.head()"
   ]
  },
  {
   "cell_type": "markdown",
   "metadata": {},
   "source": [
    "### Tipos\n"
   ]
  },
  {
   "cell_type": "code",
   "execution_count": 37,
   "metadata": {},
   "outputs": [
    {
     "name": "stdout",
     "output_type": "stream",
     "text": [
      "<class 'pandas.core.frame.DataFrame'>\n"
     ]
    }
   ],
   "source": [
    "print(type(df_tempo_renda))"
   ]
  },
  {
   "cell_type": "markdown",
   "metadata": {},
   "source": [
    "### Exercício: Crie um recurso para mostrar apenas uma coluna. Mostre qual o tipo desse recurso"
   ]
  },
  {
   "cell_type": "code",
   "execution_count": 43,
   "metadata": {},
   "outputs": [
    {
     "name": "stdout",
     "output_type": "stream",
     "text": [
      "<class 'pandas.core.series.Series'>\n"
     ]
    }
   ],
   "source": [
    "serie_tempo_renda = df_tempo_renda['rendafamiliar'].head()\n",
    "\n",
    "print(type(serie_tempo_renda))    "
   ]
  }
 ],
 "metadata": {
  "kernelspec": {
   "display_name": ".venv",
   "language": "python",
   "name": "python3"
  },
  "language_info": {
   "codemirror_mode": {
    "name": "ipython",
    "version": 3
   },
   "file_extension": ".py",
   "mimetype": "text/x-python",
   "name": "python",
   "nbconvert_exporter": "python",
   "pygments_lexer": "ipython3",
   "version": "3.12.4"
  }
 },
 "nbformat": 4,
 "nbformat_minor": 2
}
